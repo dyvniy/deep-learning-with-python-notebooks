{
 "cells": [
  {
   "cell_type": "code",
   "execution_count": 1,
   "metadata": {},
   "outputs": [
    {
     "name": "stderr",
     "output_type": "stream",
     "text": [
      "Using TensorFlow backend.\n",
      "c:\\python37\\lib\\site-packages\\tensorflow\\python\\framework\\dtypes.py:516: FutureWarning: Passing (type, 1) or '1type' as a synonym of type is deprecated; in a future version of numpy, it will be understood as (type, (1,)) / '(1,)type'.\n",
      "  _np_qint8 = np.dtype([(\"qint8\", np.int8, 1)])\n",
      "c:\\python37\\lib\\site-packages\\tensorflow\\python\\framework\\dtypes.py:517: FutureWarning: Passing (type, 1) or '1type' as a synonym of type is deprecated; in a future version of numpy, it will be understood as (type, (1,)) / '(1,)type'.\n",
      "  _np_quint8 = np.dtype([(\"quint8\", np.uint8, 1)])\n",
      "c:\\python37\\lib\\site-packages\\tensorflow\\python\\framework\\dtypes.py:518: FutureWarning: Passing (type, 1) or '1type' as a synonym of type is deprecated; in a future version of numpy, it will be understood as (type, (1,)) / '(1,)type'.\n",
      "  _np_qint16 = np.dtype([(\"qint16\", np.int16, 1)])\n",
      "c:\\python37\\lib\\site-packages\\tensorflow\\python\\framework\\dtypes.py:519: FutureWarning: Passing (type, 1) or '1type' as a synonym of type is deprecated; in a future version of numpy, it will be understood as (type, (1,)) / '(1,)type'.\n",
      "  _np_quint16 = np.dtype([(\"quint16\", np.uint16, 1)])\n",
      "c:\\python37\\lib\\site-packages\\tensorflow\\python\\framework\\dtypes.py:520: FutureWarning: Passing (type, 1) or '1type' as a synonym of type is deprecated; in a future version of numpy, it will be understood as (type, (1,)) / '(1,)type'.\n",
      "  _np_qint32 = np.dtype([(\"qint32\", np.int32, 1)])\n",
      "c:\\python37\\lib\\site-packages\\tensorflow\\python\\framework\\dtypes.py:525: FutureWarning: Passing (type, 1) or '1type' as a synonym of type is deprecated; in a future version of numpy, it will be understood as (type, (1,)) / '(1,)type'.\n",
      "  np_resource = np.dtype([(\"resource\", np.ubyte, 1)])\n",
      "c:\\python37\\lib\\site-packages\\tensorboard\\compat\\tensorflow_stub\\dtypes.py:541: FutureWarning: Passing (type, 1) or '1type' as a synonym of type is deprecated; in a future version of numpy, it will be understood as (type, (1,)) / '(1,)type'.\n",
      "  _np_qint8 = np.dtype([(\"qint8\", np.int8, 1)])\n",
      "c:\\python37\\lib\\site-packages\\tensorboard\\compat\\tensorflow_stub\\dtypes.py:542: FutureWarning: Passing (type, 1) or '1type' as a synonym of type is deprecated; in a future version of numpy, it will be understood as (type, (1,)) / '(1,)type'.\n",
      "  _np_quint8 = np.dtype([(\"quint8\", np.uint8, 1)])\n",
      "c:\\python37\\lib\\site-packages\\tensorboard\\compat\\tensorflow_stub\\dtypes.py:543: FutureWarning: Passing (type, 1) or '1type' as a synonym of type is deprecated; in a future version of numpy, it will be understood as (type, (1,)) / '(1,)type'.\n",
      "  _np_qint16 = np.dtype([(\"qint16\", np.int16, 1)])\n",
      "c:\\python37\\lib\\site-packages\\tensorboard\\compat\\tensorflow_stub\\dtypes.py:544: FutureWarning: Passing (type, 1) or '1type' as a synonym of type is deprecated; in a future version of numpy, it will be understood as (type, (1,)) / '(1,)type'.\n",
      "  _np_quint16 = np.dtype([(\"quint16\", np.uint16, 1)])\n",
      "c:\\python37\\lib\\site-packages\\tensorboard\\compat\\tensorflow_stub\\dtypes.py:545: FutureWarning: Passing (type, 1) or '1type' as a synonym of type is deprecated; in a future version of numpy, it will be understood as (type, (1,)) / '(1,)type'.\n",
      "  _np_qint32 = np.dtype([(\"qint32\", np.int32, 1)])\n",
      "c:\\python37\\lib\\site-packages\\tensorboard\\compat\\tensorflow_stub\\dtypes.py:550: FutureWarning: Passing (type, 1) or '1type' as a synonym of type is deprecated; in a future version of numpy, it will be understood as (type, (1,)) / '(1,)type'.\n",
      "  np_resource = np.dtype([(\"resource\", np.ubyte, 1)])\n"
     ]
    },
    {
     "data": {
      "text/plain": [
       "'2.2.5'"
      ]
     },
     "execution_count": 1,
     "metadata": {},
     "output_type": "execute_result"
    }
   ],
   "source": [
    "import keras\n",
    "keras.__version__"
   ]
  },
  {
   "cell_type": "markdown",
   "metadata": {},
   "source": [
    "# Overfitting and underfitting\n",
    "\n",
    "This notebook contains the code samples found in Chapter 3, Section 6 of [Deep Learning with Python](https://www.manning.com/books/deep-learning-with-python?a_aid=keras&a_bid=76564dff). Note that the original text features far more content, in particular further explanations and figures: in this notebook, you will only find source code and related comments.\n",
    "\n",
    "----\n",
    "\n",
    "\n",
    "In all the examples we saw in the previous chapter -- movie review sentiment prediction, topic classification, and house price regression -- \n",
    "we could notice that the performance of our model on the held-out validation data would always peak after a few epochs and would then start \n",
    "degrading, i.e. our model would quickly start to _overfit_ to the training data. Overfitting happens in every single machine learning \n",
    "problem. Learning how to deal with overfitting is essential to mastering machine learning.\n",
    "\n",
    "The fundamental issue in machine learning is the tension between optimization and generalization. \"Optimization\" refers to the process of \n",
    "adjusting a model to get the best performance possible on the training data (the \"learning\" in \"machine learning\"), while \"generalization\" \n",
    "refers to how well the trained model would perform on data it has never seen before. The goal of the game is to get good generalization, of \n",
    "course, but you do not control generalization; you can only adjust the model based on its training data.\n",
    "\n",
    "At the beginning of training, optimization and generalization are correlated: the lower your loss on training data, the lower your loss on \n",
    "test data. While this is happening, your model is said to be _under-fit_: there is still progress to be made; the network hasn't yet \n",
    "modeled all relevant patterns in the training data. But after a certain number of iterations on the training data, generalization stops \n",
    "improving, validation metrics stall then start degrading: the model is then starting to over-fit, i.e. is it starting to learn patterns \n",
    "that are specific to the training data but that are misleading or irrelevant when it comes to new data.\n",
    "\n",
    "To prevent a model from learning misleading or irrelevant patterns found in the training data, _the best solution is of course to get \n",
    "more training data_. A model trained on more data will naturally generalize better. When that is no longer possible, the next best solution \n",
    "is to modulate the quantity of information that your model is allowed to store, or to add constraints on what information it is allowed to \n",
    "store. If a network can only afford to memorize a small number of patterns, the optimization process will force it to focus on the most \n",
    "prominent patterns, which have a better chance of generalizing well.\n",
    "\n",
    "The processing of fighting overfitting in this way is called _regularization_. Let's review some of the most common regularization \n",
    "techniques, and let's apply them in practice to improve our movie classification model from  the previous chapter."
   ]
  },
  {
   "cell_type": "markdown",
   "metadata": {},
   "source": [
    "Note: in this notebook we will be using the IMDB test set as our validation set. It doesn't matter in this context.\n",
    "\n",
    "Let's prepare the data using the code from Chapter 3, Section 5:"
   ]
  },
  {
   "cell_type": "code",
   "execution_count": 2,
   "metadata": {},
   "outputs": [],
   "source": [
    "from keras.datasets import imdb\n",
    "import numpy as np\n",
    "\n",
    "# save np.load\n",
    "np_load_old = np.load\n",
    "\n",
    "# modify the default parameters of np.load\n",
    "#np.load = lambda *a,**k: np_load_old(*a, allow_pickle=True, **k)\n",
    "\n",
    "# call load_data with allow_pickle implicitly set to true\n",
    "(train_data, train_labels), (test_data, test_labels) = imdb.load_data(num_words=10000)\n",
    "\n",
    "# restore np.load for future normal usage\n",
    "np.load = np_load_old\n",
    "\n",
    "def vectorize_sequences(sequences, dimension=10000):\n",
    "    # Create an all-zero matrix of shape (len(sequences), dimension)\n",
    "    results = np.zeros((len(sequences), dimension))\n",
    "    for i, sequence in enumerate(sequences):\n",
    "        results[i, sequence] = 1.  # set specific indices of results[i] to 1s\n",
    "    return results\n",
    "\n",
    "# Our vectorized training data\n",
    "x_train = vectorize_sequences(train_data)\n",
    "# Our vectorized test data\n",
    "x_test = vectorize_sequences(test_data)\n",
    "# Our vectorized labels\n",
    "y_train = np.asarray(train_labels).astype('float32')\n",
    "y_test = np.asarray(test_labels).astype('float32')"
   ]
  },
  {
   "cell_type": "markdown",
   "metadata": {},
   "source": [
    "# Fighting overfitting\n",
    "\n",
    "## Reducing the network's size\n",
    "\n",
    "\n",
    "The simplest way to prevent overfitting is to reduce the size of the model, i.e. the number of learnable parameters in the model (which is \n",
    "determined by the number of layers and the number of units per layer). In deep learning, the number of learnable parameters in a model is \n",
    "often referred to as the model's \"capacity\". Intuitively, a model with more parameters will have more \"memorization capacity\" and therefore \n",
    "will be able to easily learn a perfect dictionary-like mapping between training samples and their targets, a mapping without any \n",
    "generalization power. For instance, a model with 500,000 binary parameters could easily be made to learn the class of every digits in the \n",
    "MNIST training set: we would only need 10 binary parameters for each of the 50,000 digits. Such a model would be useless for classifying \n",
    "new digit samples. Always keep this in mind: deep learning models tend to be good at fitting to the training data, but the real challenge \n",
    "is generalization, not fitting.\n",
    "\n",
    "On the other hand, if the network has limited memorization resources, it will not be able to learn this mapping as easily, and thus, in \n",
    "order to minimize its loss, it will have to resort to learning compressed representations that have predictive power regarding the targets \n",
    "-- precisely the type of representations that we are interested in. At the same time, keep in mind that you should be using models that have \n",
    "enough parameters that they won't be underfitting: your model shouldn't be starved for memorization resources. There is a compromise to be \n",
    "found between \"too much capacity\" and \"not enough capacity\".\n",
    "\n",
    "Unfortunately, there is no magical formula to determine what the right number of layers is, or what the right size for each layer is. You \n",
    "will have to evaluate an array of different architectures (on your validation set, not on your test set, of course) in order to find the \n",
    "right model size for your data. The general workflow to find an appropriate model size is to start with relatively few layers and \n",
    "parameters, and start increasing the size of the layers or adding new layers until you see diminishing returns with regard to the \n",
    "validation loss.\n",
    "\n",
    "Let's try this on our movie review classification network. Our original network was as such:"
   ]
  },
  {
   "cell_type": "code",
   "execution_count": 3,
   "metadata": {},
   "outputs": [
    {
     "name": "stderr",
     "output_type": "stream",
     "text": [
      "WARNING: Logging before flag parsing goes to stderr.\n",
      "W1010 09:01:16.013629  8268 deprecation_wrapper.py:119] From c:\\python37\\lib\\site-packages\\keras\\backend\\tensorflow_backend.py:66: The name tf.get_default_graph is deprecated. Please use tf.compat.v1.get_default_graph instead.\n",
      "\n",
      "W1010 09:01:16.037630  8268 deprecation_wrapper.py:119] From c:\\python37\\lib\\site-packages\\keras\\backend\\tensorflow_backend.py:541: The name tf.placeholder is deprecated. Please use tf.compat.v1.placeholder instead.\n",
      "\n",
      "W1010 09:01:16.040630  8268 deprecation_wrapper.py:119] From c:\\python37\\lib\\site-packages\\keras\\backend\\tensorflow_backend.py:4432: The name tf.random_uniform is deprecated. Please use tf.random.uniform instead.\n",
      "\n",
      "W1010 09:01:16.086633  8268 deprecation_wrapper.py:119] From c:\\python37\\lib\\site-packages\\keras\\optimizers.py:793: The name tf.train.Optimizer is deprecated. Please use tf.compat.v1.train.Optimizer instead.\n",
      "\n",
      "W1010 09:01:16.105634  8268 deprecation_wrapper.py:119] From c:\\python37\\lib\\site-packages\\keras\\backend\\tensorflow_backend.py:3657: The name tf.log is deprecated. Please use tf.math.log instead.\n",
      "\n",
      "W1010 09:01:16.110635  8268 deprecation.py:323] From c:\\python37\\lib\\site-packages\\tensorflow\\python\\ops\\nn_impl.py:180: add_dispatch_support.<locals>.wrapper (from tensorflow.python.ops.array_ops) is deprecated and will be removed in a future version.\n",
      "Instructions for updating:\n",
      "Use tf.where in 2.0, which has the same broadcast rule as np.where\n"
     ]
    }
   ],
   "source": [
    "from keras import models\n",
    "from keras import layers\n",
    "\n",
    "original_model = models.Sequential()\n",
    "original_model.add(layers.Dense(16, activation='relu', input_shape=(10000,)))\n",
    "original_model.add(layers.Dense(16, activation='relu'))\n",
    "original_model.add(layers.Dense(1, activation='sigmoid'))\n",
    "\n",
    "original_model.compile(optimizer='rmsprop',\n",
    "                       loss='binary_crossentropy',\n",
    "                       metrics=['acc'])"
   ]
  },
  {
   "cell_type": "markdown",
   "metadata": {},
   "source": [
    "Now let's try to replace it with this smaller network:"
   ]
  },
  {
   "cell_type": "code",
   "execution_count": 4,
   "metadata": {},
   "outputs": [],
   "source": [
    "smaller_model = models.Sequential()\n",
    "smaller_model.add(layers.Dense(4, activation='relu', input_shape=(10000,)))\n",
    "smaller_model.add(layers.Dense(4, activation='relu'))\n",
    "smaller_model.add(layers.Dense(1, activation='sigmoid'))\n",
    "\n",
    "smaller_model.compile(optimizer='rmsprop',\n",
    "                      loss='binary_crossentropy',\n",
    "                      metrics=['acc'])"
   ]
  },
  {
   "cell_type": "markdown",
   "metadata": {},
   "source": [
    "\n",
    "Here's a comparison of the validation losses of the original network and the smaller network. The dots are the validation loss values of \n",
    "the smaller network, and the crosses are the initial network (remember: a lower validation loss signals a better model)."
   ]
  },
  {
   "cell_type": "code",
   "execution_count": 5,
   "metadata": {},
   "outputs": [
    {
     "name": "stderr",
     "output_type": "stream",
     "text": [
      "W1010 09:01:16.423652  8268 deprecation_wrapper.py:119] From c:\\python37\\lib\\site-packages\\keras\\backend\\tensorflow_backend.py:1033: The name tf.assign_add is deprecated. Please use tf.compat.v1.assign_add instead.\n",
      "\n"
     ]
    },
    {
     "name": "stdout",
     "output_type": "stream",
     "text": [
      "Train on 25000 samples, validate on 25000 samples\n",
      "Epoch 1/20\n",
      "25000/25000 [==============================] - 10s 380us/step - loss: 0.4556 - acc: 0.8231 - val_loss: 0.3387 - val_acc: 0.8799\n",
      "Epoch 2/20\n",
      "25000/25000 [==============================] - 7s 267us/step - loss: 0.2616 - acc: 0.9065 - val_loss: 0.2904 - val_acc: 0.8850\n",
      "Epoch 3/20\n",
      "25000/25000 [==============================] - 7s 264us/step - loss: 0.2036 - acc: 0.9272 - val_loss: 0.2799 - val_acc: 0.8880\n",
      "Epoch 4/20\n",
      "25000/25000 [==============================] - 7s 263us/step - loss: 0.1695 - acc: 0.9399 - val_loss: 0.2895 - val_acc: 0.8865\n",
      "Epoch 5/20\n",
      "25000/25000 [==============================] - 7s 265us/step - loss: 0.1467 - acc: 0.9474 - val_loss: 0.3419 - val_acc: 0.8696\n",
      "Epoch 6/20\n",
      "25000/25000 [==============================] - 7s 265us/step - loss: 0.1283 - acc: 0.9556 - val_loss: 0.3274 - val_acc: 0.8788\n",
      "Epoch 7/20\n",
      "25000/25000 [==============================] - 7s 265us/step - loss: 0.1147 - acc: 0.9602 - val_loss: 0.3514 - val_acc: 0.8747\n",
      "Epoch 8/20\n",
      "25000/25000 [==============================] - 7s 266us/step - loss: 0.1037 - acc: 0.9647 - val_loss: 0.3818 - val_acc: 0.8692\n",
      "Epoch 9/20\n",
      "25000/25000 [==============================] - 7s 268us/step - loss: 0.0910 - acc: 0.9699 - val_loss: 0.4448 - val_acc: 0.8610\n",
      "Epoch 10/20\n",
      "25000/25000 [==============================] - 7s 265us/step - loss: 0.0827 - acc: 0.9731 - val_loss: 0.4339 - val_acc: 0.8632\n",
      "Epoch 11/20\n",
      "25000/25000 [==============================] - 7s 264us/step - loss: 0.0734 - acc: 0.9769 - val_loss: 0.4567 - val_acc: 0.8630\n",
      "Epoch 12/20\n",
      "25000/25000 [==============================] - 7s 264us/step - loss: 0.0649 - acc: 0.9794 - val_loss: 0.4864 - val_acc: 0.8616\n",
      "Epoch 13/20\n",
      "25000/25000 [==============================] - 7s 265us/step - loss: 0.0571 - acc: 0.9819 - val_loss: 0.5235 - val_acc: 0.8571\n",
      "Epoch 14/20\n",
      "25000/25000 [==============================] - 7s 264us/step - loss: 0.0488 - acc: 0.9850 - val_loss: 0.5565 - val_acc: 0.8570\n",
      "Epoch 15/20\n",
      "25000/25000 [==============================] - 7s 267us/step - loss: 0.0443 - acc: 0.9870 - val_loss: 0.5871 - val_acc: 0.8562\n",
      "Epoch 16/20\n",
      "25000/25000 [==============================] - 7s 268us/step - loss: 0.0393 - acc: 0.9884 - val_loss: 0.6179 - val_acc: 0.8546\n",
      "Epoch 17/20\n",
      "25000/25000 [==============================] - 7s 267us/step - loss: 0.0322 - acc: 0.9909 - val_loss: 0.6642 - val_acc: 0.8502\n",
      "Epoch 18/20\n",
      "25000/25000 [==============================] - 7s 268us/step - loss: 0.0279 - acc: 0.9929 - val_loss: 0.7125 - val_acc: 0.8500\n",
      "Epoch 19/20\n",
      "25000/25000 [==============================] - 7s 266us/step - loss: 0.0235 - acc: 0.9939 - val_loss: 0.7541 - val_acc: 0.8489\n",
      "Epoch 20/20\n",
      "25000/25000 [==============================] - 7s 267us/step - loss: 0.0219 - acc: 0.9938 - val_loss: 0.7595 - val_acc: 0.8503\n"
     ]
    }
   ],
   "source": [
    "original_hist = original_model.fit(x_train, y_train,\n",
    "                                   epochs=20,\n",
    "                                   batch_size=512,\n",
    "                                   validation_data=(x_test, y_test))"
   ]
  },
  {
   "cell_type": "code",
   "execution_count": 6,
   "metadata": {},
   "outputs": [
    {
     "name": "stdout",
     "output_type": "stream",
     "text": [
      "Train on 25000 samples, validate on 25000 samples\n",
      "Epoch 1/20\n",
      "25000/25000 [==============================] - 7s 279us/step - loss: 0.5054 - acc: 0.8102 - val_loss: 0.4029 - val_acc: 0.8679\n",
      "Epoch 2/20\n",
      "25000/25000 [==============================] - 7s 267us/step - loss: 0.3269 - acc: 0.8958 - val_loss: 0.3241 - val_acc: 0.8840\n",
      "Epoch 3/20\n",
      "25000/25000 [==============================] - 7s 268us/step - loss: 0.2544 - acc: 0.9164 - val_loss: 0.2919 - val_acc: 0.8890\n",
      "Epoch 4/20\n",
      "25000/25000 [==============================] - 7s 268us/step - loss: 0.2135 - acc: 0.9278 - val_loss: 0.2806 - val_acc: 0.8910\n",
      "Epoch 5/20\n",
      "25000/25000 [==============================] - 7s 268us/step - loss: 0.1867 - acc: 0.9366 - val_loss: 0.2903 - val_acc: 0.8826\n",
      "Epoch 6/20\n",
      "25000/25000 [==============================] - 7s 268us/step - loss: 0.1675 - acc: 0.9423 - val_loss: 0.2837 - val_acc: 0.8867\n",
      "Epoch 7/20\n",
      "25000/25000 [==============================] - 7s 269us/step - loss: 0.1517 - acc: 0.9504 - val_loss: 0.2900 - val_acc: 0.8854\n",
      "Epoch 8/20\n",
      "25000/25000 [==============================] - 7s 266us/step - loss: 0.1381 - acc: 0.9549 - val_loss: 0.3043 - val_acc: 0.8813\n",
      "Epoch 9/20\n",
      "25000/25000 [==============================] - 7s 266us/step - loss: 0.1272 - acc: 0.9591 - val_loss: 0.3258 - val_acc: 0.8748\n",
      "Epoch 10/20\n",
      "25000/25000 [==============================] - 7s 265us/step - loss: 0.1175 - acc: 0.9624 - val_loss: 0.3230 - val_acc: 0.8774\n",
      "Epoch 11/20\n",
      "25000/25000 [==============================] - 7s 267us/step - loss: 0.1092 - acc: 0.9657 - val_loss: 0.3361 - val_acc: 0.8758\n",
      "Epoch 12/20\n",
      "25000/25000 [==============================] - 7s 264us/step - loss: 0.1016 - acc: 0.9684 - val_loss: 0.3532 - val_acc: 0.8730\n",
      "Epoch 13/20\n",
      "25000/25000 [==============================] - 7s 261us/step - loss: 0.0940 - acc: 0.9710 - val_loss: 0.3648 - val_acc: 0.8721\n",
      "Epoch 14/20\n",
      "25000/25000 [==============================] - 7s 261us/step - loss: 0.0877 - acc: 0.9734 - val_loss: 0.3924 - val_acc: 0.8660\n",
      "Epoch 15/20\n",
      "25000/25000 [==============================] - 7s 260us/step - loss: 0.0818 - acc: 0.9755 - val_loss: 0.3961 - val_acc: 0.8681\n",
      "Epoch 16/20\n",
      "25000/25000 [==============================] - 7s 260us/step - loss: 0.0763 - acc: 0.9778 - val_loss: 0.4154 - val_acc: 0.8655\n",
      "Epoch 17/20\n",
      "25000/25000 [==============================] - 7s 260us/step - loss: 0.0711 - acc: 0.9796 - val_loss: 0.4351 - val_acc: 0.8625\n",
      "Epoch 18/20\n",
      "25000/25000 [==============================] - 7s 261us/step - loss: 0.0664 - acc: 0.9814 - val_loss: 0.4514 - val_acc: 0.8624\n",
      "Epoch 19/20\n",
      "25000/25000 [==============================] - 7s 263us/step - loss: 0.0613 - acc: 0.9833 - val_loss: 0.4737 - val_acc: 0.8586\n",
      "Epoch 20/20\n",
      "25000/25000 [==============================] - 7s 263us/step - loss: 0.0569 - acc: 0.9851 - val_loss: 0.4927 - val_acc: 0.8568\n"
     ]
    }
   ],
   "source": [
    "smaller_model_hist = smaller_model.fit(x_train, y_train,\n",
    "                                       epochs=20,\n",
    "                                       batch_size=512,\n",
    "                                       validation_data=(x_test, y_test))"
   ]
  },
  {
   "cell_type": "code",
   "execution_count": 7,
   "metadata": {},
   "outputs": [],
   "source": [
    "epochs = range(1, 21)\n",
    "original_val_loss = original_hist.history['val_loss']\n",
    "smaller_model_val_loss = smaller_model_hist.history['val_loss']"
   ]
  },
  {
   "cell_type": "code",
   "execution_count": 8,
   "metadata": {},
   "outputs": [
    {
     "data": {
      "text/plain": [
       "<Figure size 640x480 with 1 Axes>"
      ]
     },
     "metadata": {},
     "output_type": "display_data"
    }
   ],
   "source": [
    "import matplotlib.pyplot as plt\n",
    "\n",
    "# b+ is for \"blue cross\"\n",
    "plt.plot(epochs, original_val_loss, 'b+', label='Original model')\n",
    "# \"bo\" is for \"blue dot\"\n",
    "plt.plot(epochs, smaller_model_val_loss, 'bo', label='Smaller model')\n",
    "plt.xlabel('Epochs')\n",
    "plt.ylabel('Validation loss')\n",
    "plt.legend()\n",
    "\n",
    "plt.show()"
   ]
  },
  {
   "cell_type": "markdown",
   "metadata": {},
   "source": [
    "\n",
    "As you can see, the smaller network starts overfitting later than the reference one (after 6 epochs rather than 4) and its performance \n",
    "degrades much more slowly once it starts overfitting.\n",
    "\n",
    "Now, for kicks, let's add to this benchmark a network that has much more capacity, far more than the problem would warrant:"
   ]
  },
  {
   "cell_type": "code",
   "execution_count": 9,
   "metadata": {},
   "outputs": [],
   "source": [
    "bigger_model = models.Sequential()\n",
    "bigger_model.add(layers.Dense(512, activation='relu', input_shape=(10000,)))\n",
    "bigger_model.add(layers.Dense(512, activation='relu'))\n",
    "bigger_model.add(layers.Dense(1, activation='sigmoid'))\n",
    "\n",
    "bigger_model.compile(optimizer='rmsprop',\n",
    "                     loss='binary_crossentropy',\n",
    "                     metrics=['acc'])"
   ]
  },
  {
   "cell_type": "code",
   "execution_count": 10,
   "metadata": {},
   "outputs": [
    {
     "name": "stdout",
     "output_type": "stream",
     "text": [
      "Train on 25000 samples, validate on 25000 samples\n",
      "Epoch 1/20\n",
      "25000/25000 [==============================] - 8s 309us/step - loss: 0.4610 - acc: 0.8101 - val_loss: 0.3194 - val_acc: 0.8733\n",
      "Epoch 2/20\n",
      "25000/25000 [==============================] - 7s 284us/step - loss: 0.2154 - acc: 0.9160 - val_loss: 0.3372 - val_acc: 0.8617\n",
      "Epoch 3/20\n",
      "25000/25000 [==============================] - 7s 284us/step - loss: 0.1332 - acc: 0.9500 - val_loss: 0.3190 - val_acc: 0.8860\n",
      "Epoch 4/20\n",
      "25000/25000 [==============================] - 7s 282us/step - loss: 0.0547 - acc: 0.9821 - val_loss: 0.5331 - val_acc: 0.8632\n",
      "Epoch 5/20\n",
      "25000/25000 [==============================] - 7s 282us/step - loss: 0.0676 - acc: 0.9878 - val_loss: 0.5067 - val_acc: 0.8828\n",
      "Epoch 6/20\n",
      "25000/25000 [==============================] - 7s 281us/step - loss: 0.0015 - acc: 0.9998 - val_loss: 0.6997 - val_acc: 0.8697\n",
      "Epoch 7/20\n",
      "25000/25000 [==============================] - 7s 281us/step - loss: 0.1075 - acc: 0.9879 - val_loss: 0.7798 - val_acc: 0.8640\n",
      "Epoch 8/20\n",
      "25000/25000 [==============================] - 7s 282us/step - loss: 0.0016 - acc: 0.9998 - val_loss: 0.7344 - val_acc: 0.8722\n",
      "Epoch 9/20\n",
      "25000/25000 [==============================] - 7s 281us/step - loss: 0.0776 - acc: 0.9890 - val_loss: 0.6909 - val_acc: 0.8772\n",
      "Epoch 10/20\n",
      "25000/25000 [==============================] - 7s 282us/step - loss: 1.2695e-04 - acc: 1.0000 - val_loss: 0.8022 - val_acc: 0.8781\n",
      "Epoch 11/20\n",
      "25000/25000 [==============================] - 7s 281us/step - loss: 1.2586e-05 - acc: 1.0000 - val_loss: 0.9016 - val_acc: 0.8789\n",
      "Epoch 12/20\n",
      "25000/25000 [==============================] - 7s 280us/step - loss: 0.1075 - acc: 0.9909 - val_loss: 1.0505 - val_acc: 0.8664\n",
      "Epoch 13/20\n",
      "25000/25000 [==============================] - 7s 279us/step - loss: 4.7534e-05 - acc: 1.0000 - val_loss: 0.9592 - val_acc: 0.8754\n",
      "Epoch 14/20\n",
      "25000/25000 [==============================] - 7s 281us/step - loss: 3.9016e-06 - acc: 1.0000 - val_loss: 0.9690 - val_acc: 0.8761\n",
      "Epoch 15/20\n",
      "25000/25000 [==============================] - 7s 280us/step - loss: 1.0608e-06 - acc: 1.0000 - val_loss: 0.9969 - val_acc: 0.8771\n",
      "Epoch 16/20\n",
      "25000/25000 [==============================] - 7s 281us/step - loss: 4.2798e-07 - acc: 1.0000 - val_loss: 1.0482 - val_acc: 0.8778\n",
      "Epoch 17/20\n",
      "25000/25000 [==============================] - 7s 289us/step - loss: 2.0403e-07 - acc: 1.0000 - val_loss: 1.0983 - val_acc: 0.8769\n",
      "Epoch 18/20\n",
      "25000/25000 [==============================] - 7s 283us/step - loss: 1.3506e-07 - acc: 1.0000 - val_loss: 1.1281 - val_acc: 0.8774\n",
      "Epoch 19/20\n",
      "25000/25000 [==============================] - 7s 282us/step - loss: 1.1968e-07 - acc: 1.0000 - val_loss: 1.1415 - val_acc: 0.8772\n",
      "Epoch 20/20\n",
      "25000/25000 [==============================] - 7s 282us/step - loss: 1.1518e-07 - acc: 1.0000 - val_loss: 1.1516 - val_acc: 0.8775\n"
     ]
    }
   ],
   "source": [
    "bigger_model_hist = bigger_model.fit(x_train, y_train,\n",
    "                                     epochs=20,\n",
    "                                     batch_size=512,\n",
    "                                     validation_data=(x_test, y_test))"
   ]
  },
  {
   "cell_type": "markdown",
   "metadata": {},
   "source": [
    "Here's how the bigger network fares compared to the reference one. The dots are the validation loss values of the bigger network, and the \n",
    "crosses are the initial network."
   ]
  },
  {
   "cell_type": "code",
   "execution_count": 11,
   "metadata": {},
   "outputs": [
    {
     "data": {
      "image/png": "[encoded data removed]",
      "text/plain": [
       "<Figure size 432x288 with 1 Axes>"
      ]
     },
     "metadata": {
      "needs_background": "light"
     },
     "output_type": "display_data"
    }
   ],
   "source": [
    "bigger_model_val_loss = bigger_model_hist.history['val_loss']\n",
    "\n",
    "plt.plot(epochs, original_val_loss, 'b+', label='Original model')\n",
    "plt.plot(epochs, bigger_model_val_loss, 'bo', label='Bigger model')\n",
    "plt.xlabel('Epochs')\n",
    "plt.ylabel('Validation loss')\n",
    "plt.legend()\n",
    "\n",
    "plt.show()"
   ]
  },
  {
   "cell_type": "markdown",
   "metadata": {},
   "source": [
    "\n",
    "The bigger network starts overfitting almost right away, after just one epoch, and overfits much more severely. Its validation loss is also \n",
    "more noisy.\n",
    "\n",
    "Meanwhile, here are the training losses for our two networks:"
   ]
  },
  {
   "cell_type": "code",
   "execution_count": 12,
   "metadata": {},
   "outputs": [
    {
     "data": {
      "image/png": "[encoded data removed]",
      "text/plain": [
       "<Figure size 432x288 with 1 Axes>"
      ]
     },
     "metadata": {
      "needs_background": "light"
     },
     "output_type": "display_data"
    }
   ],
   "source": [
    "original_train_loss = original_hist.history['loss']\n",
    "bigger_model_train_loss = bigger_model_hist.history['loss']\n",
    "\n",
    "plt.plot(epochs, original_train_loss, 'b+', label='Original model')\n",
    "plt.plot(epochs, bigger_model_train_loss, 'bo', label='Bigger model')\n",
    "plt.xlabel('Epochs')\n",
    "plt.ylabel('Training loss')\n",
    "plt.legend()\n",
    "\n",
    "plt.show()"
   ]
  },
  {
   "cell_type": "markdown",
   "metadata": {},
   "source": [
    "As you can see, the bigger network gets its training loss near zero very quickly. The more capacity the network has, the quicker it will be \n",
    "able to model the training data (resulting in a low training loss), but the more susceptible it is to overfitting (resulting in a large \n",
    "difference between the training and validation loss)."
   ]
  },
  {
   "cell_type": "markdown",
   "metadata": {},
   "source": [
    "## Adding weight regularization\n",
    "\n",
    "\n",
    "You may be familiar with _Occam's Razor_ principle: given two explanations for something, the explanation most likely to be correct is the \n",
    "\"simplest\" one, the one that makes the least amount of assumptions. This also applies to the models learned by neural networks: given some \n",
    "training data and a network architecture, there are multiple sets of weights values (multiple _models_) that could explain the data, and \n",
    "simpler models are less likely to overfit than complex ones.\n",
    "\n",
    "A \"simple model\" in this context is a model where the distribution of parameter values has less entropy (or a model with fewer \n",
    "parameters altogether, as we saw in the section above). Thus a common way to mitigate overfitting is to put constraints on the complexity \n",
    "of a network by forcing its weights to only take small values, which makes the distribution of weight values more \"regular\". This is called \n",
    "\"weight regularization\", and it is done by adding to the loss function of the network a _cost_ associated with having large weights. This \n",
    "cost comes in two flavors:\n",
    "\n",
    "* L1 regularization, where the cost added is proportional to the _absolute value of the weights coefficients_ (i.e. to what is called the \n",
    "\"L1 norm\" of the weights).\n",
    "* L2 regularization, where the cost added is proportional to the _square of the value of the weights coefficients_ (i.e. to what is called \n",
    "the \"L2 norm\" of the weights). L2 regularization is also called _weight decay_ in the context of neural networks. Don't let the different \n",
    "name confuse you: weight decay is mathematically the exact same as L2 regularization.\n",
    "\n",
    "In Keras, weight regularization is added by passing _weight regularizer instances_ to layers as keyword arguments. Let's add L2 weight \n",
    "regularization to our movie review classification network:"
   ]
  },
  {
   "cell_type": "code",
   "execution_count": 13,
   "metadata": {},
   "outputs": [],
   "source": [
    "from keras import regularizers\n",
    "\n",
    "l2_model = models.Sequential()\n",
    "l2_model.add(layers.Dense(16, kernel_regularizer=regularizers.l2(0.001),\n",
    "                          activation='relu', input_shape=(10000,)))\n",
    "l2_model.add(layers.Dense(16, kernel_regularizer=regularizers.l2(0.001),\n",
    "                          activation='relu'))\n",
    "l2_model.add(layers.Dense(1, activation='sigmoid'))"
   ]
  },
  {
   "cell_type": "code",
   "execution_count": 14,
   "metadata": {},
   "outputs": [],
   "source": [
    "l2_model.compile(optimizer='rmsprop',\n",
    "                 loss='binary_crossentropy',\n",
    "                 metrics=['acc'])"
   ]
  },
  {
   "cell_type": "markdown",
   "metadata": {},
   "source": [
    "`l2(0.001)` means that every coefficient in the weight matrix of the layer will add `0.001 * weight_coefficient_value` to the total loss of \n",
    "the network. Note that because this penalty is _only added at training time_, the loss for this network will be much higher at training \n",
    "than at test time.\n",
    "\n",
    "Here's the impact of our L2 regularization penalty:"
   ]
  },
  {
   "cell_type": "code",
   "execution_count": 15,
   "metadata": {},
   "outputs": [
    {
     "name": "stdout",
     "output_type": "stream",
     "text": [
      "Train on 25000 samples, validate on 25000 samples\n",
      "Epoch 1/20\n",
      "25000/25000 [==============================] - 7s 286us/step - loss: 0.4857 - acc: 0.8211 - val_loss: 0.4239 - val_acc: 0.8365\n",
      "Epoch 2/20\n",
      "25000/25000 [==============================] - 7s 268us/step - loss: 0.3133 - acc: 0.9042 - val_loss: 0.3359 - val_acc: 0.8864\n",
      "Epoch 3/20\n",
      "25000/25000 [==============================] - 7s 267us/step - loss: 0.2708 - acc: 0.9184 - val_loss: 0.3283 - val_acc: 0.8886\n",
      "Epoch 4/20\n",
      "25000/25000 [==============================] - 7s 268us/step - loss: 0.2481 - acc: 0.9293 - val_loss: 0.3342 - val_acc: 0.8864\n",
      "Epoch 5/20\n",
      "25000/25000 [==============================] - 7s 266us/step - loss: 0.2340 - acc: 0.9347 - val_loss: 0.3586 - val_acc: 0.8772\n",
      "Epoch 6/20\n",
      "25000/25000 [==============================] - 7s 265us/step - loss: 0.2267 - acc: 0.9361 - val_loss: 0.3564 - val_acc: 0.8784\n",
      "Epoch 7/20\n",
      "25000/25000 [==============================] - 7s 266us/step - loss: 0.2211 - acc: 0.9378 - val_loss: 0.3561 - val_acc: 0.8802\n",
      "Epoch 8/20\n",
      "25000/25000 [==============================] - 7s 267us/step - loss: 0.2194 - acc: 0.9388 - val_loss: 0.3646 - val_acc: 0.8777\n",
      "Epoch 9/20\n",
      "25000/25000 [==============================] - 7s 267us/step - loss: 0.2111 - acc: 0.9438 - val_loss: 0.3786 - val_acc: 0.8745\n",
      "Epoch 10/20\n",
      "25000/25000 [==============================] - 7s 266us/step - loss: 0.2080 - acc: 0.9452 - val_loss: 0.3734 - val_acc: 0.8764\n",
      "Epoch 11/20\n",
      "25000/25000 [==============================] - 7s 272us/step - loss: 0.2039 - acc: 0.9468 - val_loss: 0.3845 - val_acc: 0.8738\n",
      "Epoch 12/20\n",
      "25000/25000 [==============================] - 7s 266us/step - loss: 0.2035 - acc: 0.9464 - val_loss: 0.3845 - val_acc: 0.8740\n",
      "Epoch 13/20\n",
      "25000/25000 [==============================] - 7s 267us/step - loss: 0.2025 - acc: 0.9454 - val_loss: 0.4573 - val_acc: 0.8497\n",
      "Epoch 14/20\n",
      "25000/25000 [==============================] - 7s 267us/step - loss: 0.1968 - acc: 0.9465 - val_loss: 0.4063 - val_acc: 0.8703\n",
      "Epoch 15/20\n",
      "25000/25000 [==============================] - 7s 266us/step - loss: 0.1949 - acc: 0.9478 - val_loss: 0.4051 - val_acc: 0.8703\n",
      "Epoch 16/20\n",
      "25000/25000 [==============================] - 7s 266us/step - loss: 0.1916 - acc: 0.9498 - val_loss: 0.4026 - val_acc: 0.8708\n",
      "Epoch 17/20\n",
      "25000/25000 [==============================] - 7s 268us/step - loss: 0.1919 - acc: 0.9485 - val_loss: 0.4315 - val_acc: 0.8684\n",
      "Epoch 18/20\n",
      "25000/25000 [==============================] - 7s 268us/step - loss: 0.1843 - acc: 0.9534 - val_loss: 0.4991 - val_acc: 0.8404\n",
      "Epoch 19/20\n",
      "25000/25000 [==============================] - 7s 268us/step - loss: 0.1864 - acc: 0.9522 - val_loss: 0.4355 - val_acc: 0.8604\n",
      "Epoch 20/20\n",
      "25000/25000 [==============================] - 7s 267us/step - loss: 0.1849 - acc: 0.9534 - val_loss: 0.4251 - val_acc: 0.8657\n"
     ]
    }
   ],
   "source": [
    "l2_model_hist = l2_model.fit(x_train, y_train,\n",
    "                             epochs=20,\n",
    "                             batch_size=512,\n",
    "                             validation_data=(x_test, y_test))"
   ]
  },
  {
   "cell_type": "code",
   "execution_count": 16,
   "metadata": {},
   "outputs": [
    {
     "data": {
      "image/png": "[encoded data removed]",
      "text/plain": [
       "<Figure size 432x288 with 1 Axes>"
      ]
     },
     "metadata": {
      "needs_background": "light"
     },
     "output_type": "display_data"
    }
   ],
   "source": [
    "l2_model_val_loss = l2_model_hist.history['val_loss']\n",
    "\n",
    "plt.plot(epochs, original_val_loss, 'b+', label='Original model')\n",
    "plt.plot(epochs, l2_model_val_loss, 'bo', label='L2-regularized model')\n",
    "plt.xlabel('Epochs')\n",
    "plt.ylabel('Validation loss')\n",
    "plt.legend()\n",
    "\n",
    "plt.show()"
   ]
  },
  {
   "cell_type": "markdown",
   "metadata": {},
   "source": [
    "\n",
    "\n",
    "As you can see, the model with L2 regularization (dots) has become much more resistant to overfitting than the reference model (crosses), \n",
    "even though both models have the same number of parameters.\n",
    "\n",
    "As alternatives to L2 regularization, you could use one of the following Keras weight regularizers:"
   ]
  },
  {
   "cell_type": "code",
   "execution_count": 17,
   "metadata": {},
   "outputs": [
    {
     "data": {
      "text/plain": [
       "<keras.regularizers.L1L2 at 0x1a8a9f08>"
      ]
     },
     "execution_count": 17,
     "metadata": {},
     "output_type": "execute_result"
    }
   ],
   "source": [
    "from keras import regularizers\n",
    "\n",
    "# L1 regularization\n",
    "regularizers.l1(0.001)\n",
    "\n",
    "# L1 and L2 regularization at the same time\n",
    "regularizers.l1_l2(l1=0.001, l2=0.001)"
   ]
  },
  {
   "cell_type": "markdown",
   "metadata": {},
   "source": [
    "## Adding dropout\n",
    "\n",
    "\n",
    "Dropout is one of the most effective and most commonly used regularization techniques for neural networks, developed by Hinton and his \n",
    "students at the University of Toronto. Dropout, applied to a layer, consists of randomly \"dropping out\" (i.e. setting to zero) a number of \n",
    "output features of the layer during training. Let's say a given layer would normally have returned a vector `[0.2, 0.5, 1.3, 0.8, 1.1]` for a \n",
    "given input sample during training; after applying dropout, this vector will have a few zero entries distributed at random, e.g. `[0, 0.5, \n",
    "1.3, 0, 1.1]`. The \"dropout rate\" is the fraction of the features that are being zeroed-out; it is usually set between 0.2 and 0.5. At test \n",
    "time, no units are dropped out, and instead the layer's output values are scaled down by a factor equal to the dropout rate, so as to \n",
    "balance for the fact that more units are active than at training time.\n",
    "\n",
    "Consider a Numpy matrix containing the output of a layer, `layer_output`, of shape `(batch_size, features)`. At training time, we would be \n",
    "zero-ing out at random a fraction of the values in the matrix:"
   ]
  },
  {
   "cell_type": "code",
   "execution_count": 18,
   "metadata": {},
   "outputs": [
    {
     "ename": "NameError",
     "evalue": "name 'layer_output' is not defined",
     "output_type": "error",
     "traceback": [
      "\u001b[1;31m---------------------------------------------------------------------------\u001b[0m",
      "\u001b[1;31mNameError\u001b[0m                                 Traceback (most recent call last)",
      "\u001b[1;32m<ipython-input-18-f1f187ff4a2c>\u001b[0m in \u001b[0;36m<module>\u001b[1;34m\u001b[0m\n\u001b[0;32m      1\u001b[0m \u001b[1;31m# At training time: we drop out 50% of the units in the output\u001b[0m\u001b[1;33m\u001b[0m\u001b[1;33m\u001b[0m\u001b[1;33m\u001b[0m\u001b[0m\n\u001b[1;32m----> 2\u001b[1;33m \u001b[0mlayer_output\u001b[0m \u001b[1;33m*=\u001b[0m \u001b[0mnp\u001b[0m\u001b[1;33m.\u001b[0m\u001b[0mrandint\u001b[0m\u001b[1;33m(\u001b[0m\u001b[1;36m0\u001b[0m\u001b[1;33m,\u001b[0m \u001b[0mhigh\u001b[0m\u001b[1;33m=\u001b[0m\u001b[1;36m2\u001b[0m\u001b[1;33m,\u001b[0m \u001b[0msize\u001b[0m\u001b[1;33m=\u001b[0m\u001b[0mlayer_output\u001b[0m\u001b[1;33m.\u001b[0m\u001b[0mshape\u001b[0m\u001b[1;33m)\u001b[0m\u001b[1;33m\u001b[0m\u001b[1;33m\u001b[0m\u001b[0m\n\u001b[0m",
      "\u001b[1;31mNameError\u001b[0m: name 'layer_output' is not defined"
     ]
    }
   ],
   "source": [
    "# At training time: we drop out 50% of the units in the output\n",
    "layer_output *= np.randint(0, high=2, size=layer_output.shape)"
   ]
  },
  {
   "cell_type": "markdown",
   "metadata": {},
   "source": [
    "\n",
    "At test time, we would be scaling the output down by the dropout rate. Here we scale by 0.5 (because we were previous dropping half the \n",
    "units):"
   ]
  },
  {
   "cell_type": "code",
   "execution_count": null,
   "metadata": {},
   "outputs": [],
   "source": [
    "# At test time:\n",
    "layer_output *= 0.5"
   ]
  },
  {
   "cell_type": "markdown",
   "metadata": {},
   "source": [
    "\n",
    "Note that this process can be implemented by doing both operations at training time and leaving the output unchanged at test time, which is \n",
    "often the way it is implemented in practice:"
   ]
  },
  {
   "cell_type": "code",
   "execution_count": null,
   "metadata": {},
   "outputs": [],
   "source": [
    "# At training time:\n",
    "layer_output *= np.randint(0, high=2, size=layer_output.shape)\n",
    "# Note that we are scaling *up* rather scaling *down* in this case\n",
    "layer_output /= 0.5"
   ]
  },
  {
   "cell_type": "markdown",
   "metadata": {},
   "source": [
    "\n",
    "This technique may seem strange and arbitrary. Why would this help reduce overfitting? Geoff Hinton has said that he was inspired, among \n",
    "other things, by a fraud prevention mechanism used by banks -- in his own words: _\"I went to my bank. The tellers kept changing and I asked \n",
    "one of them why. He said he didn’t know but they got moved around a lot. I figured it must be because it would require cooperation \n",
    "between employees to successfully defraud the bank. This made me realize that randomly removing a different subset of neurons on each \n",
    "example would prevent conspiracies and thus reduce overfitting\"_.\n",
    "\n",
    "The core idea is that introducing noise in the output values of a layer can break up happenstance patterns that are not significant (what \n",
    "Hinton refers to as \"conspiracies\"), which the network would start memorizing if no noise was present. \n",
    "\n",
    "In Keras you can introduce dropout in a network via the `Dropout` layer, which gets applied to the output of layer right before it, e.g.:"
   ]
  },
  {
   "cell_type": "code",
   "execution_count": null,
   "metadata": {},
   "outputs": [],
   "source": [
    "model.add(layers.Dropout(0.5))"
   ]
  },
  {
   "cell_type": "markdown",
   "metadata": {},
   "source": [
    "Let's add two `Dropout` layers in our IMDB network to see how well they do at reducing overfitting:"
   ]
  },
  {
   "cell_type": "code",
   "execution_count": null,
   "metadata": {},
   "outputs": [],
   "source": [
    "dpt_model = models.Sequential()\n",
    "dpt_model.add(layers.Dense(16, activation='relu', input_shape=(10000,)))\n",
    "dpt_model.add(layers.Dropout(0.5))\n",
    "dpt_model.add(layers.Dense(16, activation='relu'))\n",
    "dpt_model.add(layers.Dropout(0.5))\n",
    "dpt_model.add(layers.Dense(1, activation='sigmoid'))\n",
    "\n",
    "dpt_model.compile(optimizer='rmsprop',\n",
    "                  loss='binary_crossentropy',\n",
    "                  metrics=['acc'])"
   ]
  },
  {
   "cell_type": "code",
   "execution_count": null,
   "metadata": {},
   "outputs": [],
   "source": [
    "dpt_model_hist = dpt_model.fit(x_train, y_train,\n",
    "                               epochs=20,\n",
    "                               batch_size=512,\n",
    "                               validation_data=(x_test, y_test))"
   ]
  },
  {
   "cell_type": "markdown",
   "metadata": {},
   "source": [
    "Let's plot the results:"
   ]
  },
  {
   "cell_type": "code",
   "execution_count": null,
   "metadata": {},
   "outputs": [],
   "source": [
    "dpt_model_val_loss = dpt_model_hist.history['val_loss']\n",
    "\n",
    "plt.plot(epochs, original_val_loss, 'b+', label='Original model')\n",
    "plt.plot(epochs, dpt_model_val_loss, 'bo', label='Dropout-regularized model')\n",
    "plt.xlabel('Epochs')\n",
    "plt.ylabel('Validation loss')\n",
    "plt.legend()\n",
    "\n",
    "plt.show()"
   ]
  },
  {
   "cell_type": "markdown",
   "metadata": {},
   "source": [
    "\n",
    "Again, a clear improvement over the reference network.\n",
    "\n",
    "To recap: here the most common ways to prevent overfitting in neural networks:\n",
    "\n",
    "* Getting more training data.\n",
    "* Reducing the capacity of the network.\n",
    "* Adding weight regularization.\n",
    "* Adding dropout."
   ]
  }
 ],
 "metadata": {
  "kernelspec": {
   "display_name": "Python 3",
   "language": "python",
   "name": "python3"
  }
 },
 "nbformat": 4,
 "nbformat_minor": 2
}
